{
 "cells": [
  {
   "cell_type": "markdown",
   "metadata": {},
   "source": [
    "# Preparing the dataset for hippocampus segmentation\n",
    "\n",
    "In this notebook you will use the skills and methods that we have talked about during our EDA Lesson to prepare the hippocampus dataset using Python. Follow the Notebook, writing snippets of code where directed so using Task comments, similar to the one below, which expects you to put the proper imports in place. Write your code directly in the cell with TASK comment. Feel free to add cells as you see fit, but please make sure that code that performs that tasked activity sits in the same cell as the Task comment.\n"
   ]
  },
  {
   "cell_type": "code",
   "execution_count": 95,
   "metadata": {},
   "outputs": [],
   "source": [
    "#!pip install nibabel"
   ]
  },
  {
   "cell_type": "code",
   "execution_count": 88,
   "metadata": {},
   "outputs": [
    {
     "name": "stderr",
     "output_type": "stream",
     "text": [
      "C:\\Users\\Daniel\\Anaconda3\\lib\\site-packages\\pandas\\compat\\_optional.py:138: UserWarning: Pandas requires version '2.7.0' or newer of 'numexpr' (version '2.6.9' currently installed).\n",
      "  warnings.warn(msg, UserWarning)\n"
     ]
    }
   ],
   "source": [
    "# TASK: Import the following libraries that we will use: nibabel, matplotlib, numpy\n",
    "import nibabel\n",
    "import matplotlib.pyplot as plt\n",
    "import seaborn as sns\n",
    "import numpy as np\n",
    "import math"
   ]
  },
  {
   "cell_type": "markdown",
   "metadata": {},
   "source": [
    "It will help your understanding of the data a lot if you were able to use a tool that allows you to view NIFTI volumes, like [3D Slicer](https://www.slicer.org/). I will refer to Slicer throughout this Notebook and will be pasting some images showing what your output might look like."
   ]
  },
  {
   "cell_type": "markdown",
   "metadata": {},
   "source": [
    "## Loading NIFTI images using NiBabel\n",
    "\n",
    "NiBabel is a python library for working with neuro-imaging formats (including NIFTI) that we have used in some of the exercises throughout the course. Our volumes and labels are in NIFTI format, so we will use nibabel to load and inspect them.\n",
    "\n",
    "NiBabel documentation could be found here: https://nipy.org/nibabel/\n",
    "\n",
    "Our dataset sits in two directories - *images* and *labels*. Each image is represented by a single file (we are fortunate to have our data converted to NIFTI) and has a corresponding label file which is named the same as the image file.\n",
    "\n",
    "Note that our dataset is \"dirty\". There are a few images and labels that are not quite right. They should be quite obvious to notice, though. The dataset contains an equal amount of \"correct\" volumes and corresponding labels, and you don't need to alter values of any samples in order to get the clean dataset."
   ]
  },
  {
   "cell_type": "code",
   "execution_count": 4,
   "metadata": {},
   "outputs": [],
   "source": [
    "# TASK: Your data sits in directory /data/TrainingSet.\n",
    "# Load an image and a segmentation mask into variables called image and label\n",
    "image = nibabel.nifti1.load(\"C:/Users/Daniel/Desktop/GitHub/Hippocampal-Volume-Quantification-in-Alzheimer-s-Progression/Section 1/out/TrainingSet/images/hippocampus_001.nii.gz\")\n",
    "label = 'hippocampus_001.nii'"
   ]
  },
  {
   "cell_type": "code",
   "execution_count": 5,
   "metadata": {},
   "outputs": [],
   "source": [
    "# Nibabel can present your image data as a Numpy array by calling the method get_fdata()\n",
    "# The array will contain a multi-dimensional Numpy array with numerical values representing voxel intensities. \n",
    "# In our case, images and labels are 3-dimensional, so get_fdata will return a 3-dimensional array. You can verify this\n",
    "# by accessing the .shape attribute. What are the dimensions of the input arrays?\n",
    "\n",
    "nifti_array = image.get_fdata()\n",
    "nifti_array.shape\n",
    "\n",
    "# TASK: using matplotlib, visualize a few slices from the dataset, along with their labels. \n",
    "# You can adjust plot sizes like so if you find them too small:\n",
    "# plt.rcParams[\"figure.figsize\"] = (10,10)\n",
    "plt.rcParams[\"figure.figsize\"] = (10,10)"
   ]
  },
  {
   "cell_type": "markdown",
   "metadata": {},
   "source": [
    "Load volume into 3D Slicer to validate that your visualization is correct and get a feel for the shape of structures.Try to get a visualization like the one below (hint: while Slicer documentation is not particularly great, there are plenty of YouTube videos available! Just look it up on YouTube if you are not sure how to do something)\n",
    "\n",
    "![3D slicer](img/Slicer.png)"
   ]
  },
  {
   "cell_type": "code",
   "execution_count": 84,
   "metadata": {},
   "outputs": [
    {
     "name": "stdout",
     "output_type": "stream",
     "text": [
      "hippocampus_001.nii.gz - memory size of image: 49874, shape: (35, 51, 35)\n",
      "hippocampus_003.nii.gz - memory size of image: 75632, shape: (34, 52, 35)\n",
      "hippocampus_004.nii.gz - memory size of image: 87109, shape: (36, 52, 38)\n",
      "hippocampus_006.nii.gz - memory size of image: 78933, shape: (35, 52, 34)\n",
      "hippocampus_007.nii.gz - memory size of image: 83038, shape: (34, 47, 40)\n",
      "hippocampus_008.nii.gz - memory size of image: 89370, shape: (36, 48, 40)\n",
      "hippocampus_010.nii.gz - memory size of image: 81566541, shape: (512, 512, 241)\n",
      "hippocampus_011.nii.gz - memory size of image: 70886, shape: (36, 50, 31)\n",
      "hippocampus_014.nii.gz - memory size of image: 94757, shape: (39, 50, 40)\n",
      "hippocampus_015.nii.gz - memory size of image: 73716, shape: (42, 51, 28)\n",
      "hippocampus_017.nii.gz - memory size of image: 66844, shape: (35, 48, 32)\n",
      "hippocampus_019.nii.gz - memory size of image: 87302, shape: (36, 47, 41)\n",
      "hippocampus_020.nii.gz - memory size of image: 89703, shape: (36, 46, 43)\n",
      "hippocampus_023.nii.gz - memory size of image: 76768, shape: (35, 51, 35)\n",
      "hippocampus_024.nii.gz - memory size of image: 81231, shape: (38, 52, 33)\n",
      "hippocampus_025.nii.gz - memory size of image: 72996, shape: (35, 48, 35)\n",
      "hippocampus_026.nii.gz - memory size of image: 80500, shape: (36, 50, 36)\n",
      "hippocampus_033.nii.gz - memory size of image: 49888, shape: (33, 48, 38)\n",
      "hippocampus_034.nii.gz - memory size of image: 58267, shape: (36, 49, 40)\n",
      "hippocampus_035.nii.gz - memory size of image: 78103, shape: (35, 47, 37)\n",
      "hippocampus_036.nii.gz - memory size of image: 84751, shape: (36, 47, 39)\n",
      "hippocampus_037.nii.gz - memory size of image: 65731, shape: (34, 51, 32)\n",
      "hippocampus_038.nii.gz - memory size of image: 78570, shape: (37, 51, 35)\n",
      "hippocampus_039.nii.gz - memory size of image: 76233, shape: (34, 53, 34)\n",
      "hippocampus_040.nii.gz - memory size of image: 85738, shape: (36, 52, 37)\n",
      "hippocampus_041.nii.gz - memory size of image: 76720, shape: (36, 51, 34)\n",
      "hippocampus_042.nii.gz - memory size of image: 80237, shape: (37, 52, 34)\n",
      "hippocampus_044.nii.gz - memory size of image: 70628, shape: (38, 48, 33)\n",
      "hippocampus_045.nii.gz - memory size of image: 83581, shape: (36, 48, 37)\n",
      "hippocampus_046.nii.gz - memory size of image: 87988, shape: (36, 49, 38)\n",
      "hippocampus_048.nii.gz - memory size of image: 75761, shape: (38, 52, 29)\n",
      "hippocampus_049.nii.gz - memory size of image: 79879, shape: (35, 51, 36)\n",
      "hippocampus_050.nii.gz - memory size of image: 88013, shape: (38, 49, 38)\n",
      "hippocampus_051.nii.gz - memory size of image: 84435, shape: (33, 54, 39)\n",
      "hippocampus_052.nii.gz - memory size of image: 85941, shape: (34, 52, 40)\n",
      "hippocampus_053.nii.gz - memory size of image: 88702, shape: (37, 51, 35)\n",
      "hippocampus_056.nii.gz - memory size of image: 104294, shape: (41, 47, 42)\n",
      "hippocampus_057.nii.gz - memory size of image: 75511, shape: (35, 51, 34)\n",
      "hippocampus_058.nii.gz - memory size of image: 80036, shape: (34, 53, 36)\n",
      "hippocampus_060.nii.gz - memory size of image: 75101, shape: (39, 52, 31)\n",
      "hippocampus_064.nii.gz - memory size of image: 77096, shape: (35, 53, 35)\n",
      "hippocampus_065.nii.gz - memory size of image: 60545, shape: (39, 52, 37)\n",
      "hippocampus_067.nii.gz - memory size of image: 79360, shape: (36, 42, 41)\n",
      "hippocampus_068.nii.gz - memory size of image: 78852, shape: (36, 40, 43)\n",
      "hippocampus_070.nii.gz - memory size of image: 60592, shape: (37, 50, 38)\n",
      "hippocampus_074.nii.gz - memory size of image: 87702, shape: (37, 47, 42)\n",
      "hippocampus_075.nii.gz - memory size of image: 48607, shape: (32, 47, 41)\n",
      "hippocampus_077.nii.gz - memory size of image: 86276, shape: (35, 47, 45)\n",
      "hippocampus_083.nii.gz - memory size of image: 79170, shape: (33, 52, 37)\n",
      "hippocampus_084.nii.gz - memory size of image: 80935, shape: (34, 52, 37)\n",
      "hippocampus_087.nii.gz - memory size of image: 49164, shape: (35, 55, 32)\n",
      "hippocampus_088.nii.gz - memory size of image: 58576, shape: (40, 52, 35)\n",
      "hippocampus_089.nii.gz - memory size of image: 83111, shape: (34, 51, 38)\n",
      "hippocampus_090.nii.gz - memory size of image: 93006, shape: (37, 50, 40)\n",
      "hippocampus_091.nii.gz - memory size of image: 64328, shape: (36, 51, 29)\n",
      "hippocampus_092.nii.gz - memory size of image: 63270, shape: (38, 49, 28)\n",
      "hippocampus_093.nii.gz - memory size of image: 84725, shape: (34, 53, 37)\n",
      "hippocampus_094.nii.gz - memory size of image: 91190, shape: (38, 50, 38)\n",
      "hippocampus_095.nii.gz - memory size of image: 77883, shape: (34, 49, 39)\n",
      "hippocampus_096.nii.gz - memory size of image: 74710, shape: (34, 47, 39)\n",
      "hippocampus_097.nii.gz - memory size of image: 71159, shape: (37, 48, 34)\n",
      "hippocampus_098.nii.gz - memory size of image: 71912, shape: (37, 48, 34)\n",
      "hippocampus_099.nii.gz - memory size of image: 57286, shape: (33, 52, 27)\n",
      "hippocampus_101.nii.gz - memory size of image: 71582, shape: (36, 52, 32)\n",
      "hippocampus_102.nii.gz - memory size of image: 75742, shape: (36, 55, 32)\n",
      "hippocampus_104.nii.gz - memory size of image: 88740, shape: (35, 53, 39)\n",
      "hippocampus_105.nii.gz - memory size of image: 71333, shape: (33, 47, 37)\n",
      "hippocampus_106.nii.gz - memory size of image: 75108, shape: (34, 46, 38)\n",
      "hippocampus_107.nii.gz - memory size of image: 80275, shape: (35, 55, 34)\n",
      "hippocampus_108.nii.gz - memory size of image: 86761, shape: (36, 53, 37)\n",
      "hippocampus_109.nii.gz - memory size of image: 51360, shape: (36, 49, 36)\n",
      "hippocampus_114.nii.gz - memory size of image: 61301, shape: (38, 50, 39)\n",
      "hippocampus_118.nii.gz - memory size of image: 50906, shape: (37, 52, 33)\n",
      "hippocampus_123.nii.gz - memory size of image: 54403, shape: (32, 53, 38)\n",
      "hippocampus_124.nii.gz - memory size of image: 66820, shape: (35, 55, 41)\n",
      "hippocampus_125.nii.gz - memory size of image: 58805, shape: (43, 42, 39)\n",
      "hippocampus_126.nii.gz - memory size of image: 61241, shape: (39, 44, 43)\n",
      "hippocampus_127.nii.gz - memory size of image: 53598, shape: (38, 55, 31)\n",
      "hippocampus_130.nii.gz - memory size of image: 56133, shape: (35, 49, 40)\n",
      "hippocampus_132.nii.gz - memory size of image: 56452, shape: (36, 50, 40)\n",
      "hippocampus_133.nii.gz - memory size of image: 53095, shape: (39, 41, 42)\n",
      "hippocampus_135.nii.gz - memory size of image: 73019, shape: (32, 49, 38)\n",
      "hippocampus_136.nii.gz - memory size of image: 83180, shape: (34, 49, 41)\n",
      "hippocampus_138.nii.gz - memory size of image: 77407, shape: (32, 46, 42)\n",
      "hippocampus_141.nii.gz - memory size of image: 46334, shape: (33, 44, 42)\n",
      "hippocampus_142.nii.gz - memory size of image: 50910, shape: (38, 43, 41)\n",
      "hippocampus_143.nii.gz - memory size of image: 46147, shape: (32, 45, 41)\n",
      "hippocampus_144.nii.gz - memory size of image: 51147, shape: (34, 45, 43)\n",
      "hippocampus_145.nii.gz - memory size of image: 82548, shape: (36, 53, 33)\n",
      "hippocampus_146.nii.gz - memory size of image: 76571, shape: (36, 51, 32)\n",
      "hippocampus_148.nii.gz - memory size of image: 41601, shape: (34, 48, 32)\n",
      "hippocampus_149.nii.gz - memory size of image: 42221, shape: (33, 49, 32)\n",
      "hippocampus_150.nii.gz - memory size of image: 50080, shape: (37, 49, 34)\n",
      "hippocampus_152.nii.gz - memory size of image: 58188, shape: (36, 53, 37)\n",
      "hippocampus_154.nii.gz - memory size of image: 53286, shape: (35, 46, 42)\n",
      "hippocampus_155.nii.gz - memory size of image: 78297, shape: (34, 53, 37)\n",
      "hippocampus_156.nii.gz - memory size of image: 78891, shape: (36, 52, 36)\n",
      "hippocampus_157.nii.gz - memory size of image: 83327, shape: (36, 51, 35)\n",
      "hippocampus_158.nii.gz - memory size of image: 92626, shape: (38, 52, 36)\n",
      "hippocampus_160.nii.gz - memory size of image: 56705, shape: (34, 51, 26)\n",
      "hippocampus_161.nii.gz - memory size of image: 51736, shape: (35, 51, 36)\n",
      "hippocampus_162.nii.gz - memory size of image: 57297, shape: (38, 51, 37)\n",
      "hippocampus_163.nii.gz - memory size of image: 60077, shape: (36, 47, 44)\n",
      "hippocampus_164.nii.gz - memory size of image: 74082, shape: (41, 48, 47)\n",
      "hippocampus_165.nii.gz - memory size of image: 39560, shape: (34, 49, 29)\n",
      "hippocampus_166.nii.gz - memory size of image: 44447, shape: (36, 49, 31)\n",
      "hippocampus_169.nii.gz - memory size of image: 77495, shape: (36, 45, 39)\n",
      "hippocampus_170.nii.gz - memory size of image: 79899, shape: (34, 48, 40)\n",
      "hippocampus_171.nii.gz - memory size of image: 43104, shape: (35, 56, 28)\n",
      "hippocampus_172.nii.gz - memory size of image: 46527, shape: (34, 56, 31)\n",
      "hippocampus_173.nii.gz - memory size of image: 47527, shape: (35, 53, 32)\n",
      "hippocampus_174.nii.gz - memory size of image: 55018, shape: (37, 55, 34)\n",
      "hippocampus_175.nii.gz - memory size of image: 68736, shape: (33, 47, 35)\n",
      "hippocampus_176.nii.gz - memory size of image: 79455, shape: (35, 50, 36)\n",
      "hippocampus_177.nii.gz - memory size of image: 45334, shape: (33, 44, 40)\n",
      "hippocampus_178.nii.gz - memory size of image: 50018, shape: (35, 44, 41)\n",
      "hippocampus_180.nii.gz - memory size of image: 75789, shape: (37, 45, 36)\n",
      "hippocampus_181.nii.gz - memory size of image: 76289, shape: (33, 49, 40)\n",
      "hippocampus_184.nii.gz - memory size of image: 77733, shape: (37, 51, 33)\n",
      "hippocampus_185.nii.gz - memory size of image: 68032, shape: (35, 49, 33)\n",
      "hippocampus_188.nii.gz - memory size of image: 91538, shape: (37, 54, 36)\n",
      "hippocampus_189.nii.gz - memory size of image: 69811, shape: (35, 53, 30)\n",
      "hippocampus_190.nii.gz - memory size of image: 72292, shape: (37, 52, 30)\n",
      "hippocampus_193.nii.gz - memory size of image: 60529, shape: (33, 50, 29)\n",
      "hippocampus_194.nii.gz - memory size of image: 66252, shape: (35, 50, 30)\n",
      "hippocampus_195.nii.gz - memory size of image: 63837, shape: (33, 53, 28)\n",
      "hippocampus_197.nii.gz - memory size of image: 49439, shape: (38, 51, 31)\n",
      "hippocampus_199.nii.gz - memory size of image: 66381, shape: (37, 52, 26)\n",
      "hippocampus_203.nii.gz - memory size of image: 80261, shape: (34, 49, 38)\n",
      "hippocampus_204.nii.gz - memory size of image: 85266, shape: (36, 48, 39)\n",
      "hippocampus_205.nii.gz - memory size of image: 61987, shape: (32, 47, 32)\n",
      "hippocampus_207.nii.gz - memory size of image: 74781, shape: (35, 53, 33)\n",
      "hippocampus_210.nii.gz - memory size of image: 82267, shape: (34, 48, 40)\n",
      "hippocampus_212.nii.gz - memory size of image: 85400, shape: (35, 56, 34)\n",
      "hippocampus_215.nii.gz - memory size of image: 66560, shape: (35, 49, 33)\n",
      "hippocampus_216.nii.gz - memory size of image: 66445, shape: (32, 49, 36)\n",
      "hippocampus_217.nii.gz - memory size of image: 69860, shape: (38, 53, 27)\n",
      "hippocampus_219.nii.gz - memory size of image: 52638, shape: (37, 45, 39)\n",
      "hippocampus_220.nii.gz - memory size of image: 56414, shape: (39, 45, 40)\n",
      "hippocampus_221.nii.gz - memory size of image: 42117, shape: (32, 48, 34)\n",
      "hippocampus_222.nii.gz - memory size of image: 49029, shape: (34, 49, 36)\n",
      "hippocampus_223.nii.gz - memory size of image: 83769, shape: (35, 52, 37)\n",
      "hippocampus_224.nii.gz - memory size of image: 80924, shape: (37, 48, 37)\n",
      "hippocampus_225.nii.gz - memory size of image: 56479, shape: (33, 53, 26)\n",
      "hippocampus_226.nii.gz - memory size of image: 56702, shape: (32, 51, 28)\n",
      "hippocampus_227.nii.gz - memory size of image: 72820, shape: (36, 47, 36)\n",
      "hippocampus_228.nii.gz - memory size of image: 77195, shape: (37, 48, 36)\n",
      "hippocampus_229.nii.gz - memory size of image: 74467, shape: (33, 50, 35)\n",
      "hippocampus_230.nii.gz - memory size of image: 78929, shape: (34, 49, 37)\n",
      "hippocampus_231.nii.gz - memory size of image: 79416, shape: (33, 47, 42)\n",
      "hippocampus_232.nii.gz - memory size of image: 82746, shape: (36, 44, 43)\n",
      "hippocampus_233.nii.gz - memory size of image: 77141, shape: (33, 51, 37)\n",
      "hippocampus_234.nii.gz - memory size of image: 81985, shape: (38, 49, 36)\n",
      "hippocampus_235.nii.gz - memory size of image: 88850, shape: (37, 58, 35)\n",
      "hippocampus_236.nii.gz - memory size of image: 88622, shape: (37, 57, 35)\n"
     ]
    },
    {
     "name": "stdout",
     "output_type": "stream",
     "text": [
      "hippocampus_238.nii.gz - memory size of image: 95052, shape: (37, 56, 36)\n",
      "hippocampus_242.nii.gz - memory size of image: 55293, shape: (38, 52, 34)\n",
      "hippocampus_243.nii.gz - memory size of image: 54951, shape: (34, 53, 24)\n",
      "hippocampus_244.nii.gz - memory size of image: 75832, shape: (38, 53, 30)\n",
      "hippocampus_245.nii.gz - memory size of image: 85635, shape: (35, 48, 42)\n",
      "hippocampus_248.nii.gz - memory size of image: 82936, shape: (36, 50, 38)\n",
      "hippocampus_249.nii.gz - memory size of image: 73022, shape: (32, 52, 34)\n",
      "hippocampus_250.nii.gz - memory size of image: 82804, shape: (35, 51, 36)\n",
      "hippocampus_251.nii.gz - memory size of image: 49495, shape: (36, 58, 28)\n",
      "hippocampus_252.nii.gz - memory size of image: 44660, shape: (37, 55, 26)\n",
      "hippocampus_253.nii.gz - memory size of image: 67704, shape: (34, 51, 31)\n",
      "hippocampus_257.nii.gz - memory size of image: 66819, shape: (34, 51, 33)\n",
      "hippocampus_259.nii.gz - memory size of image: 57813, shape: (33, 51, 28)\n",
      "hippocampus_260.nii.gz - memory size of image: 65417, shape: (35, 53, 29)\n",
      "hippocampus_261.nii.gz - memory size of image: 84741, shape: (36, 58, 33)\n",
      "hippocampus_263.nii.gz - memory size of image: 51866, shape: (36, 51, 35)\n",
      "hippocampus_264.nii.gz - memory size of image: 58254, shape: (38, 51, 37)\n",
      "hippocampus_265.nii.gz - memory size of image: 73617, shape: (31, 54, 34)\n",
      "hippocampus_268.nii.gz - memory size of image: 79541, shape: (34, 51, 37)\n",
      "hippocampus_269.nii.gz - memory size of image: 79868, shape: (35, 49, 37)\n",
      "hippocampus_274.nii.gz - memory size of image: 70246, shape: (35, 40, 40)\n",
      "hippocampus_276.nii.gz - memory size of image: 72924, shape: (35, 50, 33)\n",
      "hippocampus_277.nii.gz - memory size of image: 69916, shape: (33, 59, 29)\n",
      "hippocampus_279.nii.gz - memory size of image: 66494, shape: (34, 50, 32)\n",
      "hippocampus_280.nii.gz - memory size of image: 69702, shape: (37, 47, 32)\n",
      "hippocampus_281.nii.gz - memory size of image: 9811232, shape: (512, 512, 31)\n",
      "hippocampus_282.nii.gz - memory size of image: 76204, shape: (37, 52, 32)\n",
      "hippocampus_286.nii.gz - memory size of image: 59377, shape: (37, 45, 46)\n",
      "hippocampus_287.nii.gz - memory size of image: 92964, shape: (37, 50, 39)\n",
      "hippocampus_288.nii.gz - memory size of image: 102120, shape: (38, 50, 42)\n",
      "hippocampus_289.nii.gz - memory size of image: 73932, shape: (35, 49, 36)\n",
      "hippocampus_290.nii.gz - memory size of image: 82322, shape: (35, 49, 40)\n",
      "hippocampus_292.nii.gz - memory size of image: 79305, shape: (38, 52, 33)\n",
      "hippocampus_294.nii.gz - memory size of image: 85109, shape: (35, 44, 44)\n",
      "hippocampus_295.nii.gz - memory size of image: 78712, shape: (35, 53, 36)\n",
      "hippocampus_296.nii.gz - memory size of image: 78089, shape: (35, 54, 35)\n",
      "hippocampus_297.nii.gz - memory size of image: 64892, shape: (34, 51, 30)\n",
      "hippocampus_298.nii.gz - memory size of image: 76946, shape: (37, 50, 33)\n",
      "hippocampus_299.nii.gz - memory size of image: 73671, shape: (32, 54, 34)\n",
      "hippocampus_300.nii.gz - memory size of image: 79319, shape: (34, 53, 35)\n",
      "hippocampus_301.nii.gz - memory size of image: 70441, shape: (31, 50, 36)\n",
      "hippocampus_302.nii.gz - memory size of image: 79119, shape: (35, 46, 39)\n",
      "hippocampus_303.nii.gz - memory size of image: 76699, shape: (35, 48, 38)\n",
      "hippocampus_304.nii.gz - memory size of image: 79147, shape: (36, 48, 38)\n",
      "hippocampus_305.nii.gz - memory size of image: 62059, shape: (34, 49, 30)\n",
      "hippocampus_308.nii.gz - memory size of image: 58442, shape: (38, 48, 40)\n",
      "hippocampus_309.nii.gz - memory size of image: 83902, shape: (34, 52, 38)\n",
      "hippocampus_310.nii.gz - memory size of image: 86751, shape: (35, 52, 38)\n",
      "hippocampus_311.nii.gz - memory size of image: 84518, shape: (37, 49, 37)\n",
      "hippocampus_314.nii.gz - memory size of image: 75527, shape: (37, 53, 33)\n",
      "hippocampus_316.nii.gz - memory size of image: 75921, shape: (37, 51, 33)\n",
      "hippocampus_317.nii.gz - memory size of image: 70337, shape: (33, 51, 34)\n",
      "hippocampus_318.nii.gz - memory size of image: 77634, shape: (37, 51, 33)\n",
      "hippocampus_319.nii.gz - memory size of image: 42423, shape: (33, 48, 34)\n",
      "hippocampus_320.nii.gz - memory size of image: 41843, shape: (33, 47, 34)\n",
      "hippocampus_321.nii.gz - memory size of image: 63444, shape: (34, 46, 34)\n",
      "hippocampus_322.nii.gz - memory size of image: 80250, shape: (38, 47, 37)\n",
      "hippocampus_325.nii.gz - memory size of image: 88940, shape: (35, 51, 40)\n",
      "hippocampus_326.nii.gz - memory size of image: 90345, shape: (36, 49, 41)\n",
      "hippocampus_327.nii.gz - memory size of image: 60448, shape: (36, 54, 27)\n",
      "hippocampus_328.nii.gz - memory size of image: 70756, shape: (38, 54, 30)\n",
      "hippocampus_329.nii.gz - memory size of image: 74375, shape: (34, 53, 32)\n",
      "hippocampus_330.nii.gz - memory size of image: 82223, shape: (35, 55, 33)\n",
      "hippocampus_331.nii.gz - memory size of image: 72845, shape: (35, 52, 33)\n",
      "hippocampus_332.nii.gz - memory size of image: 72921, shape: (35, 52, 33)\n",
      "hippocampus_333.nii.gz - memory size of image: 77677, shape: (33, 46, 38)\n",
      "hippocampus_334.nii.gz - memory size of image: 76388, shape: (34, 47, 36)\n",
      "hippocampus_335.nii.gz - memory size of image: 73953, shape: (32, 47, 41)\n",
      "hippocampus_336.nii.gz - memory size of image: 83984, shape: (34, 47, 43)\n",
      "hippocampus_337.nii.gz - memory size of image: 74321, shape: (33, 44, 41)\n",
      "hippocampus_338.nii.gz - memory size of image: 84101, shape: (37, 43, 43)\n",
      "hippocampus_340.nii.gz - memory size of image: 71481, shape: (35, 46, 38)\n",
      "hippocampus_341.nii.gz - memory size of image: 74559, shape: (34, 48, 35)\n",
      "hippocampus_343.nii.gz - memory size of image: 67738, shape: (32, 45, 38)\n",
      "hippocampus_345.nii.gz - memory size of image: 59121, shape: (32, 49, 30)\n",
      "hippocampus_349.nii.gz - memory size of image: 71098, shape: (34, 50, 34)\n",
      "hippocampus_350.nii.gz - memory size of image: 71551, shape: (35, 49, 34)\n",
      "hippocampus_351.nii.gz - memory size of image: 48825, shape: (35, 51, 35)\n",
      "hippocampus_352.nii.gz - memory size of image: 53358, shape: (38, 51, 35)\n",
      "hippocampus_353.nii.gz - memory size of image: 61813, shape: (32, 51, 31)\n",
      "hippocampus_354.nii.gz - memory size of image: 70254, shape: (36, 50, 32)\n",
      "hippocampus_355.nii.gz - memory size of image: 76132, shape: (33, 47, 38)\n",
      "hippocampus_356.nii.gz - memory size of image: 87478, shape: (36, 51, 37)\n",
      "hippocampus_358.nii.gz - memory size of image: 71464, shape: (35, 50, 34)\n",
      "hippocampus_359.nii.gz - memory size of image: 75448, shape: (35, 49, 35)\n",
      "hippocampus_360.nii.gz - memory size of image: 76439, shape: (34, 49, 37)\n",
      "hippocampus_361.nii.gz - memory size of image: 78260, shape: (36, 50, 33)\n",
      "hippocampus_363.nii.gz - memory size of image: 85213, shape: (38, 52, 35)\n",
      "hippocampus_366.nii.gz - memory size of image: 74051, shape: (37, 47, 34)\n",
      "hippocampus_367.nii.gz - memory size of image: 92968, shape: (36, 57, 37)\n",
      "hippocampus_368.nii.gz - memory size of image: 102612, shape: (38, 55, 40)\n",
      "hippocampus_370.nii.gz - memory size of image: 82091, shape: (35, 50, 36)\n",
      "hippocampus_372.nii.gz - memory size of image: 73066, shape: (36, 50, 34)\n",
      "hippocampus_373.nii.gz - memory size of image: 72761, shape: (34, 49, 35)\n",
      "hippocampus_374.nii.gz - memory size of image: 87280, shape: (38, 48, 39)\n",
      "hippocampus_375.nii.gz - memory size of image: 72649, shape: (32, 54, 34)\n",
      "hippocampus_376.nii.gz - memory size of image: 87545, shape: (35, 55, 37)\n",
      "hippocampus_378.nii.gz - memory size of image: 75069, shape: (35, 52, 34)\n",
      "hippocampus_380.nii.gz - memory size of image: 88716, shape: (35, 46, 42)\n",
      "hippocampus_381.nii.gz - memory size of image: 75718, shape: (33, 49, 37)\n",
      "hippocampus_383.nii.gz - memory size of image: 64512, shape: (33, 55, 29)\n",
      "hippocampus_385.nii.gz - memory size of image: 85740, shape: (35, 48, 40)\n",
      "hippocampus_386.nii.gz - memory size of image: 85333, shape: (37, 45, 40)\n",
      "hippocampus_387.nii.gz - memory size of image: 66075, shape: (33, 51, 32)\n",
      "hippocampus_389.nii.gz - memory size of image: 70932, shape: (34, 49, 32)\n",
      "hippocampus_390.nii.gz - memory size of image: 85654, shape: (38, 51, 33)\n",
      "hippocampus_393.nii.gz - memory size of image: 68560, shape: (36, 51, 31)\n",
      "hippocampus_394.nii.gz - memory size of image: 73383, shape: (36, 52, 32)\n"
     ]
    }
   ],
   "source": [
    "import os\n",
    "image_names = []\n",
    "image_volumes = []\n",
    " \n",
    "for x in os.listdir(\"C:/Users/Daniel/Desktop/GitHub/Hippocampal-Volume-Quantification-in-Alzheimer-s-Progression/Section 1/out/TrainingSet/images\"):\n",
    "    try:\n",
    "        if x.endswith(\".nii.gz\"):\n",
    "            image = nibabel.nifti1.load(\"C:/Users/Daniel/Desktop/GitHub/Hippocampal-Volume-Quantification-in-Alzheimer-s-Progression/Section 1/out/TrainingSet/images/{}\".format(x))\n",
    "            nifti_array = image.get_fdata()\n",
    "            file_size = os.path.getsize(\"C:/Users/Daniel/Desktop/GitHub/Hippocampal-Volume-Quantification-in-Alzheimer-s-Progression/Section 1/out/TrainingSet/images/{}\".format(x))\n",
    "            print(\"{} - memory size of image: {}, shape: {}\".format(x, file_size, nifti_array.shape))\n",
    "            image_names.append(x)\n",
    "            image_volumes.append(np.sum(nifti_array > 0))\n",
    "    except:\n",
    "        print(\"{} : Unreadable image file. Memory size = {}\".format(x, file_size))"
   ]
  },
  {
   "cell_type": "markdown",
   "metadata": {},
   "source": [
    "### Observation: \n",
    "There is an error in image \"hippocampus_010.nii.gz\" and \"hippocampus_281.nii.gz\" This image should be dropped from the training set. "
   ]
  },
  {
   "cell_type": "code",
   "execution_count": 67,
   "metadata": {},
   "outputs": [
    {
     "data": {
      "text/plain": [
       "<matplotlib.image.AxesImage at 0x1d987a5dc88>"
      ]
     },
     "execution_count": 67,
     "metadata": {},
     "output_type": "execute_result"
    },
    {
     "data": {
      "image/png": "[encoded data removed]",
      "text/plain": [
       "<Figure size 432x288 with 2 Axes>"
      ]
     },
     "metadata": {
      "needs_background": "light"
     },
     "output_type": "display_data"
    }
   ],
   "source": [
    "fig, axs = plt.subplots(1, 2)\n",
    "first_image = nibabel.load(\"C:/Users/Daniel/Desktop/GitHub/Hippocampal-Volume-Quantification-in-Alzheimer-s-Progression/Section 1/out/TrainingSet/images/hippocampus_010.nii.gz\").get_fdata()\n",
    "second_image = nibabel.load(\"C:/Users/Daniel/Desktop/GitHub/Hippocampal-Volume-Quantification-in-Alzheimer-s-Progression/Section 1/out/TrainingSet/images/hippocampus_281.nii.gz\").get_fdata()\n",
    "\n",
    "axs[0].imshow(first_image[:, :, 240], cmap = 'gray')\n",
    "axs[1].imshow(second_image[:, : , 30], cmap = 'gray')"
   ]
  },
  {
   "cell_type": "code",
   "execution_count": 73,
   "metadata": {},
   "outputs": [
    {
     "name": "stdout",
     "output_type": "stream",
     "text": [
      "The number of images in the dataset is \u001b[1m263\n"
     ]
    }
   ],
   "source": [
    "print(\"The number of images in the dataset is \\033[1m{}\".format(len(image_names)))"
   ]
  },
  {
   "cell_type": "code",
   "execution_count": 86,
   "metadata": {},
   "outputs": [
    {
     "name": "stdout",
     "output_type": "stream",
     "text": [
      "hippocampus_001.nii.gz - memory size of image: 803, shape: (35, 51, 35)\n",
      "hippocampus_003.nii.gz - memory size of image: 1432, shape: (34, 52, 35)\n",
      "hippocampus_004.nii.gz - memory size of image: 1057, shape: (36, 52, 38)\n",
      "hippocampus_006.nii.gz - memory size of image: 1046, shape: (35, 52, 34)\n",
      "hippocampus_007.nii.gz - memory size of image: 929, shape: (34, 47, 40)\n",
      "hippocampus_008.nii.gz - memory size of image: 919, shape: (36, 48, 40)\n",
      "hippocampus_010.nii.gz - memory size of image: 851, shape: (36, 50, 31)\n",
      "hippocampus_011.nii.gz - memory size of image: 851, shape: (36, 50, 31)\n",
      "hippocampus_014.nii.gz - memory size of image: 1124, shape: (39, 50, 40)\n",
      "hippocampus_015.nii.gz - memory size of image: 890, shape: (42, 51, 28)\n",
      "hippocampus_017.nii.gz - memory size of image: 867, shape: (35, 48, 32)\n",
      "hippocampus_019.nii.gz - memory size of image: 1041, shape: (36, 47, 41)\n",
      "hippocampus_020.nii.gz - memory size of image: 1079, shape: (36, 46, 43)\n",
      "hippocampus_023.nii.gz - memory size of image: 1029, shape: (35, 51, 35)\n",
      "hippocampus_024.nii.gz - memory size of image: 999, shape: (38, 52, 33)\n",
      "hippocampus_025.nii.gz - memory size of image: 968, shape: (35, 48, 35)\n",
      "hippocampus_026.nii.gz - memory size of image: 1013, shape: (36, 50, 36)\n",
      "hippocampus_033.nii.gz - memory size of image: 951, shape: (33, 48, 38)\n",
      "hippocampus_034.nii.gz - memory size of image: 972, shape: (36, 49, 40)\n",
      "hippocampus_035.nii.gz - memory size of image: 964, shape: (35, 47, 37)\n",
      "hippocampus_036.nii.gz - memory size of image: 960, shape: (36, 47, 39)\n",
      "hippocampus_037.nii.gz - memory size of image: 925, shape: (34, 51, 32)\n",
      "hippocampus_038.nii.gz - memory size of image: 1035, shape: (37, 51, 35)\n",
      "hippocampus_039.nii.gz - memory size of image: 1010, shape: (34, 53, 34)\n",
      "hippocampus_040.nii.gz - memory size of image: 974, shape: (36, 52, 37)\n",
      "hippocampus_041.nii.gz - memory size of image: 984, shape: (36, 51, 34)\n",
      "hippocampus_042.nii.gz - memory size of image: 950, shape: (37, 52, 34)\n",
      "hippocampus_044.nii.gz - memory size of image: 819, shape: (38, 48, 33)\n",
      "hippocampus_045.nii.gz - memory size of image: 948, shape: (36, 48, 37)\n",
      "hippocampus_046.nii.gz - memory size of image: 1012, shape: (36, 49, 38)\n",
      "hippocampus_048.nii.gz - memory size of image: 887, shape: (38, 52, 29)\n",
      "hippocampus_049.nii.gz - memory size of image: 943, shape: (35, 51, 36)\n",
      "hippocampus_050.nii.gz - memory size of image: 947, shape: (38, 49, 38)\n",
      "hippocampus_051.nii.gz - memory size of image: 925, shape: (33, 54, 39)\n",
      "hippocampus_052.nii.gz - memory size of image: 953, shape: (34, 52, 40)\n",
      "hippocampus_053.nii.gz - memory size of image: 955, shape: (37, 51, 35)\n",
      "hippocampus_056.nii.gz - memory size of image: 992, shape: (41, 47, 42)\n",
      "hippocampus_057.nii.gz - memory size of image: 814, shape: (35, 51, 34)\n",
      "hippocampus_058.nii.gz - memory size of image: 859, shape: (34, 53, 36)\n",
      "hippocampus_060.nii.gz - memory size of image: 850, shape: (39, 52, 31)\n",
      "hippocampus_064.nii.gz - memory size of image: 981, shape: (35, 53, 35)\n",
      "hippocampus_065.nii.gz - memory size of image: 844, shape: (39, 52, 37)\n",
      "hippocampus_067.nii.gz - memory size of image: 832, shape: (36, 42, 41)\n",
      "hippocampus_068.nii.gz - memory size of image: 903, shape: (36, 40, 43)\n",
      "hippocampus_070.nii.gz - memory size of image: 884, shape: (37, 50, 38)\n",
      "hippocampus_074.nii.gz - memory size of image: 900, shape: (37, 47, 42)\n",
      "hippocampus_075.nii.gz - memory size of image: 829, shape: (32, 47, 41)\n",
      "hippocampus_077.nii.gz - memory size of image: 1061, shape: (35, 47, 45)\n",
      "hippocampus_083.nii.gz - memory size of image: 901, shape: (33, 52, 37)\n",
      "hippocampus_084.nii.gz - memory size of image: 886, shape: (34, 52, 37)\n",
      "hippocampus_087.nii.gz - memory size of image: 901, shape: (35, 55, 32)\n",
      "hippocampus_088.nii.gz - memory size of image: 915, shape: (40, 52, 35)\n",
      "hippocampus_089.nii.gz - memory size of image: 949, shape: (34, 51, 38)\n",
      "hippocampus_090.nii.gz - memory size of image: 1012, shape: (37, 50, 40)\n",
      "hippocampus_091.nii.gz - memory size of image: 800, shape: (36, 51, 29)\n",
      "hippocampus_092.nii.gz - memory size of image: 778, shape: (38, 49, 28)\n",
      "hippocampus_093.nii.gz - memory size of image: 976, shape: (34, 53, 37)\n",
      "hippocampus_094.nii.gz - memory size of image: 1006, shape: (38, 50, 38)\n",
      "hippocampus_095.nii.gz - memory size of image: 998, shape: (34, 49, 39)\n",
      "hippocampus_096.nii.gz - memory size of image: 898, shape: (34, 47, 39)\n",
      "hippocampus_097.nii.gz - memory size of image: 808, shape: (37, 48, 34)\n",
      "hippocampus_098.nii.gz - memory size of image: 866, shape: (37, 48, 34)\n",
      "hippocampus_099.nii.gz - memory size of image: 727, shape: (33, 52, 27)\n",
      "hippocampus_101.nii.gz - memory size of image: 929, shape: (36, 52, 32)\n",
      "hippocampus_102.nii.gz - memory size of image: 1001, shape: (36, 55, 32)\n",
      "hippocampus_104.nii.gz - memory size of image: 1019, shape: (35, 53, 39)\n",
      "hippocampus_105.nii.gz - memory size of image: 863, shape: (33, 47, 37)\n",
      "hippocampus_106.nii.gz - memory size of image: 853, shape: (34, 46, 38)\n",
      "hippocampus_107.nii.gz - memory size of image: 987, shape: (35, 55, 34)\n",
      "hippocampus_108.nii.gz - memory size of image: 986, shape: (36, 53, 37)\n",
      "hippocampus_109.nii.gz - memory size of image: 817, shape: (36, 49, 36)\n",
      "hippocampus_114.nii.gz - memory size of image: 966, shape: (38, 50, 39)\n",
      "hippocampus_123.nii.gz - memory size of image: 866, shape: (32, 53, 38)\n",
      "hippocampus_124.nii.gz - memory size of image: 880, shape: (35, 55, 41)\n",
      "hippocampus_125.nii.gz - memory size of image: 777, shape: (43, 42, 39)\n",
      "hippocampus_126.nii.gz - memory size of image: 840, shape: (39, 44, 43)\n",
      "hippocampus_127.nii.gz - memory size of image: 910, shape: (38, 55, 31)\n",
      "hippocampus_130.nii.gz - memory size of image: 926, shape: (35, 49, 40)\n",
      "hippocampus_132.nii.gz - memory size of image: 885, shape: (36, 50, 40)\n",
      "hippocampus_133.nii.gz - memory size of image: 900, shape: (39, 41, 42)\n",
      "hippocampus_135.nii.gz - memory size of image: 794, shape: (32, 49, 38)\n",
      "hippocampus_136.nii.gz - memory size of image: 891, shape: (34, 49, 41)\n",
      "hippocampus_138.nii.gz - memory size of image: 754, shape: (32, 46, 42)\n",
      "hippocampus_141.nii.gz - memory size of image: 795, shape: (33, 44, 42)\n",
      "hippocampus_142.nii.gz - memory size of image: 749, shape: (38, 43, 41)\n",
      "hippocampus_143.nii.gz - memory size of image: 748, shape: (32, 45, 41)\n",
      "hippocampus_144.nii.gz - memory size of image: 782, shape: (34, 45, 43)\n",
      "hippocampus_145.nii.gz - memory size of image: 888, shape: (36, 53, 33)\n",
      "hippocampus_146.nii.gz - memory size of image: 885, shape: (36, 51, 32)\n",
      "hippocampus_148.nii.gz - memory size of image: 799, shape: (34, 48, 32)\n",
      "hippocampus_149.nii.gz - memory size of image: 752, shape: (33, 49, 32)\n",
      "hippocampus_150.nii.gz - memory size of image: 766, shape: (37, 49, 34)\n",
      "hippocampus_152.nii.gz - memory size of image: 946, shape: (36, 53, 37)\n",
      "hippocampus_154.nii.gz - memory size of image: 837, shape: (35, 46, 42)\n",
      "hippocampus_155.nii.gz - memory size of image: 947, shape: (34, 53, 37)\n",
      "hippocampus_156.nii.gz - memory size of image: 957, shape: (36, 52, 36)\n",
      "hippocampus_157.nii.gz - memory size of image: 929, shape: (36, 51, 35)\n",
      "hippocampus_158.nii.gz - memory size of image: 948, shape: (38, 52, 36)\n",
      "hippocampus_160.nii.gz - memory size of image: 825, shape: (34, 51, 26)\n",
      "hippocampus_161.nii.gz - memory size of image: 899, shape: (35, 51, 36)\n",
      "hippocampus_162.nii.gz - memory size of image: 855, shape: (38, 51, 37)\n",
      "hippocampus_163.nii.gz - memory size of image: 969, shape: (36, 47, 44)\n",
      "hippocampus_164.nii.gz - memory size of image: 1062, shape: (41, 48, 47)\n",
      "hippocampus_165.nii.gz - memory size of image: 791, shape: (34, 49, 29)\n",
      "hippocampus_166.nii.gz - memory size of image: 783, shape: (36, 49, 31)\n",
      "hippocampus_169.nii.gz - memory size of image: 824, shape: (36, 45, 39)\n",
      "hippocampus_170.nii.gz - memory size of image: 853, shape: (34, 48, 40)\n",
      "hippocampus_171.nii.gz - memory size of image: 805, shape: (35, 56, 28)\n",
      "hippocampus_172.nii.gz - memory size of image: 892, shape: (34, 56, 31)\n",
      "hippocampus_173.nii.gz - memory size of image: 836, shape: (35, 53, 32)\n",
      "hippocampus_174.nii.gz - memory size of image: 901, shape: (37, 55, 34)\n",
      "hippocampus_175.nii.gz - memory size of image: 809, shape: (33, 47, 35)\n",
      "hippocampus_176.nii.gz - memory size of image: 860, shape: (35, 50, 36)\n",
      "hippocampus_177.nii.gz - memory size of image: 764, shape: (33, 44, 40)\n",
      "hippocampus_178.nii.gz - memory size of image: 782, shape: (35, 44, 41)\n",
      "hippocampus_180.nii.gz - memory size of image: 800, shape: (37, 45, 36)\n",
      "hippocampus_181.nii.gz - memory size of image: 974, shape: (33, 49, 40)\n",
      "hippocampus_184.nii.gz - memory size of image: 847, shape: (37, 51, 33)\n",
      "hippocampus_185.nii.gz - memory size of image: 825, shape: (35, 49, 33)\n",
      "hippocampus_188.nii.gz - memory size of image: 899, shape: (37, 54, 36)\n",
      "hippocampus_189.nii.gz - memory size of image: 852, shape: (35, 53, 30)\n",
      "hippocampus_190.nii.gz - memory size of image: 872, shape: (37, 52, 30)\n",
      "hippocampus_193.nii.gz - memory size of image: 721, shape: (33, 50, 29)\n",
      "hippocampus_194.nii.gz - memory size of image: 763, shape: (35, 50, 30)\n",
      "hippocampus_195.nii.gz - memory size of image: 863, shape: (33, 53, 28)\n",
      "hippocampus_197.nii.gz - memory size of image: 832, shape: (38, 51, 31)\n",
      "hippocampus_199.nii.gz - memory size of image: 724, shape: (37, 52, 26)\n",
      "hippocampus_203.nii.gz - memory size of image: 821, shape: (34, 49, 38)\n",
      "hippocampus_204.nii.gz - memory size of image: 886, shape: (36, 48, 39)\n",
      "hippocampus_205.nii.gz - memory size of image: 826, shape: (32, 47, 32)\n"
     ]
    },
    {
     "name": "stdout",
     "output_type": "stream",
     "text": [
      "hippocampus_207.nii.gz - memory size of image: 979, shape: (35, 53, 33)\n",
      "hippocampus_210.nii.gz - memory size of image: 806, shape: (34, 48, 40)\n",
      "hippocampus_212.nii.gz - memory size of image: 937, shape: (35, 56, 34)\n",
      "hippocampus_215.nii.gz - memory size of image: 891, shape: (35, 49, 33)\n",
      "hippocampus_216.nii.gz - memory size of image: 882, shape: (32, 49, 36)\n",
      "hippocampus_217.nii.gz - memory size of image: 770, shape: (38, 53, 27)\n",
      "hippocampus_219.nii.gz - memory size of image: 789, shape: (37, 45, 39)\n",
      "hippocampus_220.nii.gz - memory size of image: 839, shape: (39, 45, 40)\n",
      "hippocampus_221.nii.gz - memory size of image: 782, shape: (32, 48, 34)\n",
      "hippocampus_222.nii.gz - memory size of image: 803, shape: (34, 49, 36)\n",
      "hippocampus_223.nii.gz - memory size of image: 1039, shape: (35, 52, 37)\n",
      "hippocampus_224.nii.gz - memory size of image: 1018, shape: (37, 48, 37)\n",
      "hippocampus_225.nii.gz - memory size of image: 744, shape: (33, 53, 26)\n",
      "hippocampus_226.nii.gz - memory size of image: 786, shape: (32, 51, 28)\n",
      "hippocampus_227.nii.gz - memory size of image: 934, shape: (36, 47, 36)\n",
      "hippocampus_228.nii.gz - memory size of image: 990, shape: (37, 48, 36)\n",
      "hippocampus_229.nii.gz - memory size of image: 794, shape: (33, 50, 35)\n",
      "hippocampus_230.nii.gz - memory size of image: 870, shape: (34, 49, 37)\n",
      "hippocampus_231.nii.gz - memory size of image: 903, shape: (33, 47, 42)\n",
      "hippocampus_232.nii.gz - memory size of image: 908, shape: (36, 44, 43)\n",
      "hippocampus_233.nii.gz - memory size of image: 950, shape: (33, 51, 37)\n",
      "hippocampus_234.nii.gz - memory size of image: 940, shape: (38, 49, 36)\n",
      "hippocampus_235.nii.gz - memory size of image: 893, shape: (37, 58, 35)\n",
      "hippocampus_236.nii.gz - memory size of image: 935, shape: (37, 57, 35)\n",
      "hippocampus_238.nii.gz - memory size of image: 1029, shape: (37, 56, 36)\n",
      "hippocampus_242.nii.gz - memory size of image: 985, shape: (38, 52, 34)\n",
      "hippocampus_243.nii.gz - memory size of image: 1228, shape: (34, 53, 24)\n",
      "hippocampus_244.nii.gz - memory size of image: 1006, shape: (38, 53, 30)\n",
      "hippocampus_245.nii.gz - memory size of image: 970, shape: (35, 48, 42)\n",
      "hippocampus_248.nii.gz - memory size of image: 1046, shape: (36, 50, 38)\n",
      "hippocampus_249.nii.gz - memory size of image: 861, shape: (32, 52, 34)\n",
      "hippocampus_250.nii.gz - memory size of image: 936, shape: (35, 51, 36)\n",
      "hippocampus_251.nii.gz - memory size of image: 819, shape: (36, 58, 28)\n",
      "hippocampus_252.nii.gz - memory size of image: 814, shape: (37, 55, 26)\n",
      "hippocampus_253.nii.gz - memory size of image: 937, shape: (34, 51, 31)\n",
      "hippocampus_257.nii.gz - memory size of image: 877, shape: (34, 51, 33)\n",
      "hippocampus_259.nii.gz - memory size of image: 789, shape: (33, 51, 28)\n",
      "hippocampus_260.nii.gz - memory size of image: 818, shape: (35, 53, 29)\n",
      "hippocampus_261.nii.gz - memory size of image: 1083, shape: (36, 58, 33)\n",
      "hippocampus_263.nii.gz - memory size of image: 847, shape: (36, 51, 35)\n",
      "hippocampus_264.nii.gz - memory size of image: 966, shape: (38, 51, 37)\n",
      "hippocampus_265.nii.gz - memory size of image: 963, shape: (31, 54, 34)\n",
      "hippocampus_268.nii.gz - memory size of image: 987, shape: (34, 51, 37)\n",
      "hippocampus_269.nii.gz - memory size of image: 1077, shape: (35, 49, 37)\n",
      "hippocampus_274.nii.gz - memory size of image: 868, shape: (35, 40, 40)\n",
      "hippocampus_276.nii.gz - memory size of image: 916, shape: (35, 50, 33)\n",
      "hippocampus_277.nii.gz - memory size of image: 852, shape: (33, 59, 29)\n",
      "hippocampus_279.nii.gz - memory size of image: 758, shape: (34, 50, 32)\n",
      "hippocampus_280.nii.gz - memory size of image: 907, shape: (37, 47, 32)\n",
      "hippocampus_281.nii.gz - memory size of image: 25732, shape: (512, 512, 94)\n",
      "hippocampus_282.nii.gz - memory size of image: 826, shape: (37, 52, 32)\n",
      "hippocampus_286.nii.gz - memory size of image: 906, shape: (37, 45, 46)\n",
      "hippocampus_287.nii.gz - memory size of image: 965, shape: (37, 50, 39)\n",
      "hippocampus_288.nii.gz - memory size of image: 1041, shape: (38, 50, 42)\n",
      "hippocampus_289.nii.gz - memory size of image: 857, shape: (35, 49, 36)\n",
      "hippocampus_290.nii.gz - memory size of image: 994, shape: (35, 49, 40)\n",
      "hippocampus_292.nii.gz - memory size of image: 962, shape: (38, 52, 33)\n",
      "hippocampus_294.nii.gz - memory size of image: 932, shape: (35, 44, 44)\n",
      "hippocampus_295.nii.gz - memory size of image: 1051, shape: (35, 53, 36)\n",
      "hippocampus_296.nii.gz - memory size of image: 1077, shape: (35, 54, 35)\n",
      "hippocampus_297.nii.gz - memory size of image: 919, shape: (34, 51, 30)\n",
      "hippocampus_298.nii.gz - memory size of image: 924, shape: (37, 50, 33)\n",
      "hippocampus_299.nii.gz - memory size of image: 1011, shape: (32, 54, 34)\n",
      "hippocampus_300.nii.gz - memory size of image: 1061, shape: (34, 53, 35)\n",
      "hippocampus_301.nii.gz - memory size of image: 921, shape: (31, 50, 36)\n",
      "hippocampus_302.nii.gz - memory size of image: 1016, shape: (35, 46, 39)\n",
      "hippocampus_303.nii.gz - memory size of image: 953, shape: (35, 48, 38)\n",
      "hippocampus_304.nii.gz - memory size of image: 1013, shape: (36, 48, 38)\n",
      "hippocampus_305.nii.gz - memory size of image: 935, shape: (34, 49, 30)\n",
      "hippocampus_308.nii.gz - memory size of image: 893, shape: (38, 48, 40)\n",
      "hippocampus_309.nii.gz - memory size of image: 1096, shape: (34, 52, 38)\n",
      "hippocampus_310.nii.gz - memory size of image: 1159, shape: (35, 52, 38)\n",
      "hippocampus_311.nii.gz - memory size of image: 897, shape: (37, 49, 37)\n",
      "hippocampus_314.nii.gz - memory size of image: 900, shape: (37, 53, 33)\n",
      "hippocampus_316.nii.gz - memory size of image: 920, shape: (37, 51, 33)\n",
      "hippocampus_317.nii.gz - memory size of image: 1001, shape: (33, 51, 34)\n",
      "hippocampus_318.nii.gz - memory size of image: 983, shape: (37, 51, 33)\n",
      "hippocampus_319.nii.gz - memory size of image: 731, shape: (33, 48, 34)\n",
      "hippocampus_320.nii.gz - memory size of image: 748, shape: (33, 47, 34)\n",
      "hippocampus_321.nii.gz - memory size of image: 923, shape: (34, 46, 34)\n",
      "hippocampus_322.nii.gz - memory size of image: 1000, shape: (38, 47, 37)\n",
      "hippocampus_325.nii.gz - memory size of image: 1026, shape: (35, 51, 40)\n",
      "hippocampus_326.nii.gz - memory size of image: 1084, shape: (36, 49, 41)\n",
      "hippocampus_327.nii.gz - memory size of image: 775, shape: (36, 54, 27)\n",
      "hippocampus_328.nii.gz - memory size of image: 932, shape: (38, 54, 30)\n",
      "hippocampus_329.nii.gz - memory size of image: 899, shape: (34, 53, 32)\n",
      "hippocampus_330.nii.gz - memory size of image: 988, shape: (35, 55, 33)\n",
      "hippocampus_331.nii.gz - memory size of image: 951, shape: (35, 52, 33)\n",
      "hippocampus_332.nii.gz - memory size of image: 980, shape: (35, 52, 33)\n",
      "hippocampus_333.nii.gz - memory size of image: 824, shape: (33, 46, 38)\n",
      "hippocampus_334.nii.gz - memory size of image: 860, shape: (34, 47, 36)\n",
      "hippocampus_335.nii.gz - memory size of image: 888, shape: (32, 47, 41)\n",
      "hippocampus_336.nii.gz - memory size of image: 960, shape: (34, 47, 43)\n",
      "hippocampus_337.nii.gz - memory size of image: 949, shape: (33, 44, 41)\n",
      "hippocampus_338.nii.gz - memory size of image: 1076, shape: (37, 43, 43)\n",
      "hippocampus_340.nii.gz - memory size of image: 1016, shape: (35, 46, 38)\n",
      "hippocampus_341.nii.gz - memory size of image: 855, shape: (34, 48, 35)\n",
      "hippocampus_343.nii.gz - memory size of image: 835, shape: (32, 45, 38)\n",
      "hippocampus_345.nii.gz - memory size of image: 870, shape: (32, 49, 30)\n",
      "hippocampus_349.nii.gz - memory size of image: 906, shape: (34, 50, 34)\n",
      "hippocampus_350.nii.gz - memory size of image: 942, shape: (35, 49, 34)\n",
      "hippocampus_351.nii.gz - memory size of image: 920, shape: (35, 51, 35)\n",
      "hippocampus_352.nii.gz - memory size of image: 962, shape: (38, 51, 35)\n",
      "hippocampus_353.nii.gz - memory size of image: 868, shape: (32, 51, 31)\n",
      "hippocampus_354.nii.gz - memory size of image: 912, shape: (36, 50, 32)\n",
      "hippocampus_355.nii.gz - memory size of image: 1008, shape: (33, 47, 38)\n",
      "hippocampus_356.nii.gz - memory size of image: 1036, shape: (36, 51, 37)\n",
      "hippocampus_358.nii.gz - memory size of image: 934, shape: (35, 50, 34)\n",
      "hippocampus_359.nii.gz - memory size of image: 865, shape: (35, 49, 35)\n",
      "hippocampus_360.nii.gz - memory size of image: 889, shape: (34, 49, 37)\n",
      "hippocampus_361.nii.gz - memory size of image: 1003, shape: (36, 50, 33)\n",
      "hippocampus_363.nii.gz - memory size of image: 952, shape: (38, 52, 35)\n",
      "hippocampus_366.nii.gz - memory size of image: 909, shape: (37, 47, 34)\n",
      "hippocampus_367.nii.gz - memory size of image: 1161, shape: (36, 57, 37)\n",
      "hippocampus_368.nii.gz - memory size of image: 1185, shape: (38, 55, 40)\n",
      "hippocampus_370.nii.gz - memory size of image: 967, shape: (35, 50, 36)\n",
      "hippocampus_372.nii.gz - memory size of image: 949, shape: (36, 50, 34)\n",
      "hippocampus_373.nii.gz - memory size of image: 979, shape: (34, 49, 35)\n",
      "hippocampus_374.nii.gz - memory size of image: 990, shape: (38, 48, 39)\n",
      "hippocampus_375.nii.gz - memory size of image: 959, shape: (32, 54, 34)\n",
      "hippocampus_376.nii.gz - memory size of image: 1154, shape: (35, 55, 37)\n",
      "hippocampus_378.nii.gz - memory size of image: 838, shape: (35, 52, 34)\n",
      "hippocampus_380.nii.gz - memory size of image: 958, shape: (35, 46, 42)\n",
      "hippocampus_381.nii.gz - memory size of image: 862, shape: (33, 49, 37)\n",
      "hippocampus_383.nii.gz - memory size of image: 889, shape: (33, 55, 29)\n",
      "hippocampus_385.nii.gz - memory size of image: 897, shape: (35, 48, 40)\n",
      "hippocampus_386.nii.gz - memory size of image: 917, shape: (37, 45, 40)\n",
      "hippocampus_387.nii.gz - memory size of image: 953, shape: (33, 51, 32)\n",
      "hippocampus_389.nii.gz - memory size of image: 906, shape: (34, 49, 32)\n",
      "hippocampus_390.nii.gz - memory size of image: 966, shape: (38, 51, 33)\n",
      "hippocampus_393.nii.gz - memory size of image: 1022, shape: (36, 51, 31)\n",
      "hippocampus_394.nii.gz - memory size of image: 976, shape: (36, 52, 32)\n"
     ]
    }
   ],
   "source": [
    "import os\n",
    "label_names = []\n",
    "label_volumes = []\n",
    " \n",
    "for x in os.listdir(\"C:/Users/Daniel/Desktop/GitHub/Hippocampal-Volume-Quantification-in-Alzheimer-s-Progression/Section 1/out/TrainingSet/labels\"):\n",
    "    try:\n",
    "        if x.endswith(\".nii.gz\"):\n",
    "            image = nibabel.nifti1.load(\"C:/Users/Daniel/Desktop/GitHub/Hippocampal-Volume-Quantification-in-Alzheimer-s-Progression/Section 1/out/TrainingSet/labels/{}\".format(x))\n",
    "            nifti_array = image.get_fdata()\n",
    "            file_size = os.path.getsize(\"C:/Users/Daniel/Desktop/GitHub/Hippocampal-Volume-Quantification-in-Alzheimer-s-Progression/Section 1/out/TrainingSet/labels/{}\".format(x))\n",
    "            print(\"{} - memory size of image: {}, shape: {}\".format(x, file_size, nifti_array.shape))\n",
    "            label_names.append(x)\n",
    "            label_volumes.append(np.sum(nifti_array > 0))\n",
    "    except:\n",
    "        print(\"{} : Unreadable image file. Memory size = {}\".format(x, file_size))"
   ]
  },
  {
   "cell_type": "code",
   "execution_count": 72,
   "metadata": {},
   "outputs": [
    {
     "name": "stdout",
     "output_type": "stream",
     "text": [
      "The number of images in the dataset is \u001b[1m262\n"
     ]
    }
   ],
   "source": [
    "# Stand out suggestion: use one of the simple Volume Rendering algorithms that we've\n",
    "# implemented in one of our earlier lessons to visualize some of these volumes\n",
    "print(\"The number of images in the dataset is \\033[1m{}\".format(len(label_names)))"
   ]
  },
  {
   "cell_type": "code",
   "execution_count": 71,
   "metadata": {},
   "outputs": [
    {
     "name": "stdout",
     "output_type": "stream",
     "text": [
      "The file without a label is \u001b[1mhippocampus_118.nii.gz\n"
     ]
    }
   ],
   "source": [
    "# Viewing the file that does not have a label\n",
    "for i in image_names:\n",
    "    if i not in label_names:\n",
    "        print(\"The file without a label is \\033[1m{}\".format(i))"
   ]
  },
  {
   "cell_type": "markdown",
   "metadata": {},
   "source": [
    "## Looking at single image data\n",
    "In this section we will look closer at the NIFTI representation of our volumes. In order to measure the physical volume of hippocampi, we need to understand the relationship between the sizes of our voxels and the physical world."
   ]
  },
  {
   "cell_type": "code",
   "execution_count": 8,
   "metadata": {
    "scrolled": true
   },
   "outputs": [
    {
     "name": "stdout",
     "output_type": "stream",
     "text": [
      "<class 'nibabel.nifti1.Nifti1Header'> object, endian='<'\n",
      "sizeof_hdr      : 348\n",
      "data_type       : b''\n",
      "db_name         : b''\n",
      "extents         : 0\n",
      "session_error   : 0\n",
      "regular         : b'r'\n",
      "dim_info        : 0\n",
      "dim             : [ 3 36 52 32  1  1  1  1]\n",
      "intent_p1       : 0.0\n",
      "intent_p2       : 0.0\n",
      "intent_p3       : 0.0\n",
      "intent_code     : none\n",
      "datatype        : float32\n",
      "bitpix          : 32\n",
      "slice_start     : 0\n",
      "pixdim          : [1. 1. 1. 1. 1. 0. 0. 0.]\n",
      "vox_offset      : 0.0\n",
      "scl_slope       : nan\n",
      "scl_inter       : nan\n",
      "slice_end       : 0\n",
      "slice_code      : unknown\n",
      "xyzt_units      : 10\n",
      "cal_max         : 0.0\n",
      "cal_min         : 0.0\n",
      "slice_duration  : 0.0\n",
      "toffset         : 0.0\n",
      "glmax           : 0\n",
      "glmin           : 0\n",
      "descrip         : b'5.0.10'\n",
      "aux_file        : b'none'\n",
      "qform_code      : scanner\n",
      "sform_code      : scanner\n",
      "quatern_b       : 0.0\n",
      "quatern_c       : 0.0\n",
      "quatern_d       : 0.0\n",
      "qoffset_x       : 1.0\n",
      "qoffset_y       : 1.0\n",
      "qoffset_z       : 1.0\n",
      "srow_x          : [1. 0. 0. 1.]\n",
      "srow_y          : [0. 1. 0. 1.]\n",
      "srow_z          : [0. 0. 1. 1.]\n",
      "intent_name     : b''\n",
      "magic           : b'n+1'\n"
     ]
    }
   ],
   "source": [
    "# Nibabel supports many imaging formats, NIFTI being just one of them. I told you that our images \n",
    "# are in NIFTI, but you should confirm if this is indeed the format that we are dealing with\n",
    "# TASK: using .header_class attribute - what is the format of our images?\n",
    "header = image.header\n",
    "print(header)"
   ]
  },
  {
   "cell_type": "markdown",
   "metadata": {},
   "source": [
    "Further down we will be inspecting .header attribute that provides access to NIFTI metadata. You can use this resource as a reference for various fields: https://brainder.org/2012/09/23/the-nifti-file-format/"
   ]
  },
  {
   "cell_type": "code",
   "execution_count": 9,
   "metadata": {},
   "outputs": [
    {
     "name": "stdout",
     "output_type": "stream",
     "text": [
      "There are 32 bits per pixel.\n"
     ]
    }
   ],
   "source": [
    "# TASK: How many bits per pixel are used?\n",
    "print(\"There are {} bits per pixel.\".format(header['bitpix']))"
   ]
  },
  {
   "cell_type": "code",
   "execution_count": 10,
   "metadata": {},
   "outputs": [
    {
     "name": "stdout",
     "output_type": "stream",
     "text": [
      "The units of measurement are in 'mm'.\n"
     ]
    }
   ],
   "source": [
    "# TASK: What are the units of measurement?\n",
    "print(\"The units of measurement are in '{}'.\".format(header.get_xyzt_units()[0]))"
   ]
  },
  {
   "cell_type": "code",
   "execution_count": 11,
   "metadata": {},
   "outputs": [
    {
     "data": {
      "text/plain": [
       "array([1., 1., 1., 1., 1., 0., 0., 0.], dtype=float32)"
      ]
     },
     "execution_count": 11,
     "metadata": {},
     "output_type": "execute_result"
    }
   ],
   "source": [
    "# TASK: Do we have a regular grid? What are grid spacings?\n",
    "header['pixdim']          "
   ]
  },
  {
   "cell_type": "code",
   "execution_count": 12,
   "metadata": {},
   "outputs": [
    {
     "name": "stdout",
     "output_type": "stream",
     "text": [
      "Dimensions for the image: [ 3 36 52 32  1  1  1  1]\n",
      "The second value in the array is the axial slice: 36\n",
      "The third value in the array is the sagittal slice: 52\n",
      "The fourth value in the array is the coronal slice: 32\n"
     ]
    }
   ],
   "source": [
    "# TASK: What dimensions represent axial, sagittal, and coronal slices? How do you know?\n",
    "print(\"Dimensions for the image: {}\".format(header['dim']))\n",
    "print(\"The second value in the array is the axial slice: {}\".format(header['dim'][1]))\n",
    "print(\"The third value in the array is the sagittal slice: {}\".format(header['dim'][2]))\n",
    "print(\"The fourth value in the array is the coronal slice: {}\".format(header['dim'][3]))"
   ]
  },
  {
   "cell_type": "code",
   "execution_count": 83,
   "metadata": {},
   "outputs": [
    {
     "name": "stdout",
     "output_type": "stream",
     "text": [
      "The volume of a random Hippocampus label: 3456 mm^3\n"
     ]
    }
   ],
   "source": [
    "# By now you should have enough information to decide what are dimensions of a single voxel\n",
    "# TASK: Compute the volume (in mm³) of a hippocampus using one of the labels you've loaded. \n",
    "# You should get a number between ~2200 and ~4500\n",
    "image_label = nibabel.load(\"C:/Users/Daniel/Desktop/GitHub/Hippocampal-Volume-Quantification-in-Alzheimer-s-Progression/Section 1/out/TrainingSet/labels/hippocampus_011.nii.gz\").get_fdata()\n",
    "label_volume = np.sum(image_label > 0)\n",
    "\n",
    "print(\"The volume of a random Hippocampus label: {} mm^3\".format(int(label_volume)))"
   ]
  },
  {
   "cell_type": "markdown",
   "metadata": {},
   "source": [
    "## Plotting some charts"
   ]
  },
  {
   "cell_type": "code",
   "execution_count": 119,
   "metadata": {},
   "outputs": [
    {
     "data": {
      "text/plain": [
       "Text(0.5, 0, 'Volume (mm^3)')"
      ]
     },
     "execution_count": 119,
     "metadata": {},
     "output_type": "execute_result"
    },
    {
     "data": {
      "image/png": "[encoded data removed]",
      "text/plain": [
       "<Figure size 1440x720 with 1 Axes>"
      ]
     },
     "metadata": {},
     "output_type": "display_data"
    }
   ],
   "source": [
    "# TASK: Plot a histogram of all volumes that we have in our dataset and see how \n",
    "# our dataset measures against a slice of a normal population represented by the chart below.\n",
    "number_of_image_bins = math.ceil(np.sqrt(len(image_volumes)))\n",
    "sns.histplot(label_volumes, bins=number_of_image_bins).set(title='Distribution of Image Volumes')\n",
    "plt.xlabel(\"Volume (mm^3)\")"
   ]
  },
  {
   "cell_type": "code",
   "execution_count": 118,
   "metadata": {},
   "outputs": [
    {
     "data": {
      "text/plain": [
       "Text(0.5, 0, 'Volume (mm^3)')"
      ]
     },
     "execution_count": 118,
     "metadata": {},
     "output_type": "execute_result"
    },
    {
     "data": {
      "image/png": "[encoded data removed]",
      "text/plain": [
       "<Figure size 1440x720 with 1 Axes>"
      ]
     },
     "metadata": {},
     "output_type": "display_data"
    }
   ],
   "source": [
    "number_of_label_bins = math.ceil(np.sqrt(len(label_volumes)))\n",
    "sns.histplot(label_volumes, bins=number_of_label_bins).set(title='Distribution of Hippocampal Volumes')\n",
    "plt.xlabel(\"Volume (mm^3)\")"
   ]
  },
  {
   "cell_type": "markdown",
   "metadata": {},
   "source": [
    "<img src=\"img/nomogram_fem_right.svg\" width=400 align=left>"
   ]
  },
  {
   "cell_type": "markdown",
   "metadata": {},
   "source": [
    "Do you see any outliers? Why do you think it's so (might be not immediately obvious, but it's always a good idea to inspect) outliers closer. If you haven't found the images that do not belong, the histogram may help you."
   ]
  },
  {
   "cell_type": "markdown",
   "metadata": {},
   "source": [
    "In the real world we would have precise information about the ages and conditions of our patients, and understanding how our dataset measures against population norm would be the integral part of clinical validation that we talked about in last lesson. Unfortunately, we do not have this information about this dataset, so we can only guess why it measures the way it is. If you would like to explore further, you can use the [calculator from HippoFit project](http://www.smanohar.com/biobank/calculator.html) to see how our dataset compares against different population slices"
   ]
  },
  {
   "cell_type": "markdown",
   "metadata": {},
   "source": [
    "Did you notice anything odd about the label files? We hope you did! The mask seems to have two classes, labeled with values `1` and `2` respectively. If you visualized sagittal or axial views, you might have gotten a good guess of what those are. Class 1 is the anterior segment of the hippocampus and class 2 is the posterior one. \n",
    "\n",
    "For the purpose of volume calculation we do not care about the distinction, however we will still train our network to differentiate between these two classes and the background"
   ]
  },
  {
   "cell_type": "code",
   "execution_count": 12,
   "metadata": {},
   "outputs": [],
   "source": [
    "# TASK: Copy the clean dataset to the output folder inside section1/out. You will use it in the next Section\n",
    "!cp -r /data/TrainingSet /home/workspace/out/"
   ]
  },
  {
   "cell_type": "markdown",
   "metadata": {},
   "source": [
    "## Final remarks\n",
    "\n",
    "Congratulations! You have finished Section 1. \n",
    "\n",
    "In this section you have inspected a dataset of MRI scans and related segmentations, represented as NIFTI files. We have visualized some slices, and understood the layout of the data. We have inspected file headers to understand what how the image dimensions relate to the physical world and we have understood how to measure our volume. We have then inspected dataset for outliers, and have created a clean set that is ready for consumption by our ML algorithm. \n",
    "\n",
    "In the next section you will create training and testing pipelines for a UNet-based machine learning model, run and monitor the execution, and will produce test metrics. This will arm you with all you need to use the model in the clinical context and reason about its performance!"
   ]
  }
 ],
 "metadata": {
  "kernelspec": {
   "display_name": "Python 3",
   "language": "python",
   "name": "python3"
  },
  "language_info": {
   "codemirror_mode": {
    "name": "ipython",
    "version": 3
   },
   "file_extension": ".py",
   "mimetype": "text/x-python",
   "name": "python",
   "nbconvert_exporter": "python",
   "pygments_lexer": "ipython3",
   "version": "3.7.3"
  }
 },
 "nbformat": 4,
 "nbformat_minor": 2
}
